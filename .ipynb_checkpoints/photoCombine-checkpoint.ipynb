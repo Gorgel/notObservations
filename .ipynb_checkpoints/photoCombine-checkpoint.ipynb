{
 "metadata": {
  "name": "",
  "signature": "sha256:aeeb81e438fd9adeefacb476958dffed25910dff377d7ed6b6bad1f6bb983ebb"
 },
 "nbformat": 3,
 "nbformat_minor": 0,
 "worksheets": [
  {
   "cells": [
    {
     "cell_type": "code",
     "collapsed": false,
     "input": [
      "from __future__ import division\n",
      "import numpy as np\n",
      "import img_scale as im\n",
      "import astropy.io.fits as fits\n",
      "%matplotlib"
     ],
     "language": "python",
     "metadata": {},
     "outputs": [
      {
       "output_type": "stream",
       "stream": "stdout",
       "text": [
        "Using matplotlib backend: Qt4Agg\n"
       ]
      }
     ],
     "prompt_number": 2
    },
    {
     "cell_type": "code",
     "collapsed": false,
     "input": [
      "imV = fits.open('Photometry/ALxe140123.fits')\n",
      "imB = fits.open('Photometry/ALxe140126.fits')\n",
      "imR = fits.open('Photometry/ALxe140129.fits')"
     ],
     "language": "python",
     "metadata": {},
     "outputs": [],
     "prompt_number": 8
    },
    {
     "cell_type": "code",
     "collapsed": false,
     "input": [
      "imV[1].data"
     ],
     "language": "python",
     "metadata": {},
     "outputs": [
      {
       "metadata": {},
       "output_type": "pyout",
       "prompt_number": 9,
       "text": [
        "array([[ 10000.,   9949.,   9989., ...,   9970.,  10006.,   9976.],\n",
        "       [  9994.,   9957.,   9955., ...,  10003.,  10004.,   9964.],\n",
        "       [  9977.,   9968.,   9957., ...,   9978.,  10007.,   9982.],\n",
        "       ..., \n",
        "       [ 10013.,   9938.,   9960., ...,   9997.,  10004.,   9988.],\n",
        "       [ 10008.,   9954.,   9977., ...,   9980.,   9994.,   9974.],\n",
        "       [ 10009.,   9961.,   9972., ...,  10003.,  10001.,  10019.]])"
       ]
      }
     ],
     "prompt_number": 9
    },
    {
     "cell_type": "code",
     "collapsed": false,
     "input": [
      "img = np.zeros((imV[1].data.shape[0], imV[1].data.shape[1], 3), dtype=float)"
     ],
     "language": "python",
     "metadata": {},
     "outputs": [],
     "prompt_number": 10
    },
    {
     "cell_type": "code",
     "collapsed": false,
     "input": [
      "from IPython.html.widgets import interact\n",
      "\n",
      "def imagePlot(vmin,vmax):\n",
      "        img[:,:,0] = im.linear(imV[1].data, scale_min=vmin, scale_max=vmax)\n",
      "        img[:,:,1] = im.linear(imR[1].data, scale_min=vmin, scale_max=vmax)\n",
      "        img[:,:,2] = im.linear(imB[1].data, scale_min=vmin, scale_max=vmax)\n",
      "        \n",
      "        plt.imshow(img, origin=\"lower\") "
     ],
     "language": "python",
     "metadata": {},
     "outputs": [],
     "prompt_number": 23
    },
    {
     "cell_type": "code",
     "collapsed": false,
     "input": [
      "interact(imagePlot, vmin=(0,20000,100), vmax=(0,50000,100))"
     ],
     "language": "python",
     "metadata": {},
     "outputs": [
      {
       "output_type": "stream",
       "stream": "stdout",
       "text": [
        "img_scale : linear\n",
        "img_scale : linear"
       ]
      },
      {
       "output_type": "stream",
       "stream": "stdout",
       "text": [
        "\n",
        "img_scale : linear"
       ]
      },
      {
       "output_type": "stream",
       "stream": "stdout",
       "text": [
        "\n"
       ]
      }
     ],
     "prompt_number": 24
    },
    {
     "cell_type": "code",
     "collapsed": false,
     "input": [],
     "language": "python",
     "metadata": {},
     "outputs": [],
     "prompt_number": 12
    }
   ],
   "metadata": {}
  }
 ]
}