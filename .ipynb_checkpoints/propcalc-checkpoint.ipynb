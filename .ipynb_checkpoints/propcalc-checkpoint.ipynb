{
 "metadata": {
  "name": "",
  "signature": "sha256:0e102a1377ac8eac10eb0e540e2bf039e9c0a5873fe6a2845bcc7ec4e07dda43"
 },
 "nbformat": 3,
 "nbformat_minor": 0,
 "worksheets": [
  {
   "cells": [
    {
     "cell_type": "code",
     "collapsed": false,
     "input": [
      "Abig = 58.6**2 *np.pi\n",
      "Asmall = 13.3**2 *np.pi\n",
      "\n",
      "mSmall = 13.49\n",
      "mBig = 12.02\n",
      "\n",
      "Ssmall = mSmall +2.5*np.log10(Asmall)\n",
      "Sbig = mBig +2.5*np.log10(Abig)"
     ],
     "language": "python",
     "metadata": {},
     "outputs": [],
     "prompt_number": 2
    },
    {
     "cell_type": "code",
     "collapsed": false,
     "input": [
      "Sbig"
     ],
     "language": "python",
     "metadata": {},
     "outputs": [
      {
       "metadata": {},
       "output_type": "pyout",
       "prompt_number": 7,
       "text": [
        "22.102362761825788"
       ]
      }
     ],
     "prompt_number": 7
    },
    {
     "cell_type": "code",
     "collapsed": false,
     "input": [
      "Ssmall"
     ],
     "language": "python",
     "metadata": {},
     "outputs": [
      {
       "metadata": {},
       "output_type": "pyout",
       "prompt_number": 8,
       "text": [
        "20.352132886570764"
       ]
      }
     ],
     "prompt_number": 8
    },
    {
     "cell_type": "code",
     "collapsed": false,
     "input": [
      "-2.5*np.log10(2146*10**-17/(3.65*10**-17 * con.c.cgs.value))"
     ],
     "language": "python",
     "metadata": {},
     "outputs": [
      {
       "metadata": {},
       "output_type": "pyout",
       "prompt_number": 34,
       "text": [
        "19.268709624386176"
       ]
      }
     ],
     "prompt_number": 34
    },
    {
     "cell_type": "code",
     "collapsed": false,
     "input": [
      "EFOSCe = 299**2\n",
      "NOTe = EFOSCe/2\n",
      "NOTsnr = np.sqrt(NOTe)\n",
      "NOTsnr\n",
      "test =10**-12.3\n",
      "test"
     ],
     "language": "python",
     "metadata": {},
     "outputs": [
      {
       "metadata": {},
       "output_type": "pyout",
       "prompt_number": 24,
       "text": [
        "5.011872336272715e-13"
       ]
      }
     ],
     "prompt_number": 24
    },
    {
     "cell_type": "code",
     "collapsed": false,
     "input": [
      "flambda = 2146*10**-17\n",
      "fnu = flambda*6565**2 /con.c.cgs.value\n",
      "-2.5*np.log10(fnu)-48.6"
     ],
     "language": "python",
     "metadata": {},
     "outputs": [
      {
       "metadata": {},
       "output_type": "pyout",
       "prompt_number": 27,
       "text": [
        "-7.3231961888824983"
       ]
      }
     ],
     "prompt_number": 27
    },
    {
     "cell_type": "code",
     "collapsed": false,
     "input": [
      "fnu"
     ],
     "language": "python",
     "metadata": {},
     "outputs": [
      {
       "metadata": {},
       "output_type": "pyout",
       "prompt_number": 28,
       "text": [
        "3.085165566439967e-17"
       ]
      }
     ],
     "prompt_number": 28
    },
    {
     "cell_type": "code",
     "collapsed": false,
     "input": [],
     "language": "python",
     "metadata": {},
     "outputs": []
    }
   ],
   "metadata": {}
  }
 ]
}